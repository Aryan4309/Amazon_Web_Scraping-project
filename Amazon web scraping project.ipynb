{
 "cells": [
  {
   "cell_type": "code",
   "execution_count": 1,
   "id": "bd987cd3",
   "metadata": {},
   "outputs": [],
   "source": [
    "# Importing Libraries for Scraping\n",
    "\n",
    "from bs4 import BeautifulSoup\n",
    "import requests\n",
    "import smtplib\n",
    "import time \n",
    "import datetime\n",
    "\n"
   ]
  },
  {
   "cell_type": "code",
   "execution_count": null,
   "id": "20080e1e",
   "metadata": {},
   "outputs": [],
   "source": []
  },
  {
   "cell_type": "code",
   "execution_count": 2,
   "id": "35818c44",
   "metadata": {},
   "outputs": [
    {
     "name": "stdout",
     "output_type": "stream",
     "text": [
      "\n",
      "                Funny Got Data MIS Data Systems Business Analyst T-Shirt\n",
      "               \n",
      "\n",
      "                 17 ratings\n",
      "                \n"
     ]
    }
   ],
   "source": [
    "# Connect to the Website\n",
    "\n",
    "URL = \"https://www.amazon.com/Funny-Data-Systems-Business-Analyst/dp/B07FNW9FGJ/ref=sr_1_3?dchild=1&keywords=data%2Banalyst%2Btshirt&qid=1626655184&sr=8-3&customId=B0752XJYNL&th=1\"\n",
    "\n",
    "Headers = {\"User-Agent\": \"Mozilla/5.0 (Windows NT 10.0; Win64; x64) AppleWebKit/537.36 (KHTML, like Gecko) Chrome/111.0.0.0 Safari/537.36\", \"Accept-Encoding\":\"gzip, deflate\", \"Accept\":\"text/html,application/xhtml+xml,application/xml;q=0.9,*/*;q=0.8\", \"DNT\":\"1\",\"Connection\":\"close\", \"Upgrade-Insecure-Requests\":\"1\"}\n",
    "\n",
    "page = requests.get(URL, headers = Headers)\n",
    "\n",
    "soup1 = BeautifulSoup(page.content, \"html.parser\") # Extract html code\n",
    "\n",
    "soup2 = BeautifulSoup(soup1.prettify(), \"html.parser\") # Extract Formatted html code\n",
    "\n",
    "title = soup2.find(id = \"productTitle\").get_text()\n",
    "\n",
    "ratings = soup2.find(id='acrCustomerReviewText').get_text()\n",
    "\n",
    "print(title)\n",
    "print(ratings)\n",
    "\n"
   ]
  },
  {
   "cell_type": "code",
   "execution_count": 12,
   "id": "9a56ea4d",
   "metadata": {
    "scrolled": false
   },
   "outputs": [
    {
     "name": "stdout",
     "output_type": "stream",
     "text": [
      "Funny Got Data MIS Data Systems Business Analyst T-Shirt\n",
      "17\n"
     ]
    },
    {
     "data": {
      "text/plain": [
       "str"
      ]
     },
     "execution_count": 12,
     "metadata": {},
     "output_type": "execute_result"
    }
   ],
   "source": [
    "# Striping\n",
    "title = title.strip()\n",
    "ratings = ratings.strip()[:ratings.rfind(\" \")]\n",
    "\n",
    "print(title)\n",
    "print(ratings)\n",
    "type(ratings)\n"
   ]
  },
  {
   "cell_type": "code",
   "execution_count": 4,
   "id": "6eac87f2",
   "metadata": {},
   "outputs": [
    {
     "name": "stdout",
     "output_type": "stream",
     "text": [
      "2023-03-24\n"
     ]
    }
   ],
   "source": [
    "# Creating a time-stamp to know when i collected this data\n",
    "import datetime\n",
    "\n",
    "today = datetime.date.today()\n",
    "print(today)"
   ]
  },
  {
   "cell_type": "code",
   "execution_count": 5,
   "id": "e14eaf21",
   "metadata": {},
   "outputs": [],
   "source": [
    "import csv\n",
    "\n",
    "header = [\"Title\", \"Ratings\", \"Date\"]\n",
    "data = [title, ratings, today]\n",
    "\n",
    "with open(\"Amazon_WebScraper_Dataset.csv\", \"w\", newline='', encoding='UTF8') as f: # Creating csv\n",
    "    writer = csv.writer(f)\n",
    "    writer.writerow(header) # Inserting the header\n",
    "    writer.writerow(data) # Inserting the Data\n"
   ]
  },
  {
   "cell_type": "code",
   "execution_count": 6,
   "id": "bc550753",
   "metadata": {},
   "outputs": [
    {
     "data": {
      "text/html": [
       "<div>\n",
       "<style scoped>\n",
       "    .dataframe tbody tr th:only-of-type {\n",
       "        vertical-align: middle;\n",
       "    }\n",
       "\n",
       "    .dataframe tbody tr th {\n",
       "        vertical-align: top;\n",
       "    }\n",
       "\n",
       "    .dataframe thead th {\n",
       "        text-align: right;\n",
       "    }\n",
       "</style>\n",
       "<table border=\"1\" class=\"dataframe\">\n",
       "  <thead>\n",
       "    <tr style=\"text-align: right;\">\n",
       "      <th></th>\n",
       "      <th>Title</th>\n",
       "      <th>Ratings</th>\n",
       "      <th>Date</th>\n",
       "    </tr>\n",
       "  </thead>\n",
       "  <tbody>\n",
       "    <tr>\n",
       "      <th>0</th>\n",
       "      <td>Funny Got Data MIS Data Systems Business Analy...</td>\n",
       "      <td>17 ratings</td>\n",
       "      <td>2023-03-24</td>\n",
       "    </tr>\n",
       "  </tbody>\n",
       "</table>\n",
       "</div>"
      ],
      "text/plain": [
       "                                               Title     Ratings        Date\n",
       "0  Funny Got Data MIS Data Systems Business Analy...  17 ratings  2023-03-24"
      ]
     },
     "execution_count": 6,
     "metadata": {},
     "output_type": "execute_result"
    }
   ],
   "source": [
    "import pandas as pd\n",
    "\n",
    "df = pd.read_csv(r\"C:\\Users\\Aryan Ali Mullick\\Desktop\\Coursera Courses\\Alex the analyst bootcamp\\Python\\Projects\\Amazon_WebScraper_Dataset.csv\")\n",
    "\n",
    "df.head()"
   ]
  },
  {
   "cell_type": "code",
   "execution_count": 7,
   "id": "d0a01064",
   "metadata": {},
   "outputs": [],
   "source": [
    "# Now we will append data to the csv\n",
    "\n",
    "with open(\"Amazon_WebScraper_Dataset.csv\", \"a+\", newline='', encoding='UTF8') as f: # Creating csv, \"a+\" for appending\n",
    "    writer = csv.writer(f)\n",
    "    writer.writerow(data) # Inserting the Data\n"
   ]
  },
  {
   "cell_type": "code",
   "execution_count": 8,
   "id": "027fa29c",
   "metadata": {},
   "outputs": [],
   "source": [
    "# Now we will automate appending data to the csv \n",
    "\n",
    "def check_price():\n",
    "    URL = \"https://www.amazon.com/Funny-Data-Systems-Business-Analyst/dp/B07FNW9FGJ/ref=sr_1_3?dchild=1&keywords=data%2Banalyst%2Btshirt&qid=1626655184&sr=8-3&customId=B0752XJYNL&th=1\"\n",
    "\n",
    "    Headers = {\"User-Agent\": \"Mozilla/5.0 (Windows NT 10.0; Win64; x64) AppleWebKit/537.36 (KHTML, like Gecko) Chrome/111.0.0.0 Safari/537.36\", \"Accept-Encoding\":\"gzip, deflate\", \"Accept\":\"text/html,application/xhtml+xml,application/xml;q=0.9,*/*;q=0.8\", \"DNT\":\"1\",\"Connection\":\"close\", \"Upgrade-Insecure-Requests\":\"1\"}\n",
    "\n",
    "    page = requests.get(URL, headers = Headers)\n",
    "\n",
    "    soup1 = BeautifulSoup(page.content, \"html.parser\") # Extract html code\n",
    "\n",
    "    soup2 = BeautifulSoup(soup1.prettify(), \"html.parser\") # Extract Formatted html code\n",
    "\n",
    "    title = soup2.find(id = \"productTitle\").get_text()\n",
    "\n",
    "    ratings = soup2.find(id='acrCustomerReviewText').get_text()\n",
    "    \n",
    "    title = title.strip()\n",
    "\n",
    "    ratings = ratings.strip()\n",
    "    \n",
    "    import datetime\n",
    "\n",
    "    today = datetime.date.today()\n",
    "    \n",
    "    import csv\n",
    "\n",
    "    header = [\"Title\", \"Ratings\", \"Date\"]\n",
    "    data = [title, ratings, today]\n",
    "    \n",
    "    with open(\"Amazon_WebScraper_Dataset.csv\", \"w\", newline='', encoding='UTF8') as f: # Creating csv\n",
    "        writer = csv.writer(f)\n",
    "        writer.writerow(data) # Inserting the Data\n"
   ]
  },
  {
   "cell_type": "code",
   "execution_count": null,
   "id": "1dee0e24",
   "metadata": {},
   "outputs": [],
   "source": [
    "# Now we will create a timer to check price every single day\n",
    "\n",
    "while True :\n",
    "    check_price()\n",
    "    time.sleep(86400) # 24 hrs"
   ]
  },
  {
   "cell_type": "code",
   "execution_count": 13,
   "id": "8172fd5c",
   "metadata": {},
   "outputs": [
    {
     "name": "stdout",
     "output_type": "stream",
     "text": [
      "                                               Title     Ratings        Date\n",
      "0  Funny Got Data MIS Data Systems Business Analy...  17 ratings  2023-03-24\n",
      "1  Funny Got Data MIS Data Systems Business Analy...  17 ratings  2023-03-24\n"
     ]
    }
   ],
   "source": [
    "# check after 30 sec\n",
    "import pandas as pd\n",
    "\n",
    "df = pd.read_csv(r\"C:\\Users\\Aryan Ali Mullick\\Desktop\\Coursera Courses\\Alex the analyst bootcamp\\Python\\Projects\\Amazon_WebScraper_Dataset.csv\")\n",
    "\n",
    "df.head()\n",
    "print(df)\n",
    "\n",
    "if int(ratings) > 4000:\n",
    "    send_mail()"
   ]
  },
  {
   "cell_type": "code",
   "execution_count": 14,
   "id": "fed36db4",
   "metadata": {},
   "outputs": [],
   "source": [
    "# If uou want to try sending yourself an email (just for fun) when a rating hits above a certain level you can try it out with this script\n",
    "\n",
    "def send_mail():\n",
    "    server = smtplib.SMTP_SSL('smtp.gmail.com',465)\n",
    "    server.ehlo()\n",
    "    #server.starttls()\n",
    "    server.ehlo()\n",
    "    server.login('aryanmullick4309@gmail.com','*********')\n",
    "    \n",
    "    subject = \"The Shirt you want is above 4 star rating ! You should consider to buy!\"\n",
    "    body = \"Aryan, This is the moment we have been waiting for. Now is your chance to pick up the shirt of your dreams. Don't mess it up! Link here: https://www.amazon.com/Funny-Data-Systems-Business-Analyst/dp/B07FNW9FGJ/ref=sr_1_3?dchild=1&keywords=data+analyst+tshirt&qid=1626655184&sr=8-3\"\n",
    "   \n",
    "    msg = f\"Subject: {subject}\\n\\n{body}\"\n",
    "    \n",
    "    server.sendmail(\n",
    "        'aryanmullick4309@gmail.com',\n",
    "        msg\n",
    "     \n",
    "    )"
   ]
  },
  {
   "cell_type": "code",
   "execution_count": null,
   "id": "fef47c1e",
   "metadata": {},
   "outputs": [],
   "source": []
  },
  {
   "cell_type": "code",
   "execution_count": null,
   "id": "3fb63728",
   "metadata": {},
   "outputs": [],
   "source": []
  },
  {
   "cell_type": "code",
   "execution_count": null,
   "id": "d2f85d9a",
   "metadata": {},
   "outputs": [],
   "source": []
  }
 ],
 "metadata": {
  "kernelspec": {
   "display_name": "Python 3 (ipykernel)",
   "language": "python",
   "name": "python3"
  },
  "language_info": {
   "codemirror_mode": {
    "name": "ipython",
    "version": 3
   },
   "file_extension": ".py",
   "mimetype": "text/x-python",
   "name": "python",
   "nbconvert_exporter": "python",
   "pygments_lexer": "ipython3",
   "version": "3.9.12"
  },
  "varInspector": {
   "cols": {
    "lenName": 16,
    "lenType": 16,
    "lenVar": 40
   },
   "kernels_config": {
    "python": {
     "delete_cmd_postfix": "",
     "delete_cmd_prefix": "del ",
     "library": "var_list.py",
     "varRefreshCmd": "print(var_dic_list())"
    },
    "r": {
     "delete_cmd_postfix": ") ",
     "delete_cmd_prefix": "rm(",
     "library": "var_list.r",
     "varRefreshCmd": "cat(var_dic_list()) "
    }
   },
   "types_to_exclude": [
    "module",
    "function",
    "builtin_function_or_method",
    "instance",
    "_Feature"
   ],
   "window_display": false
  }
 },
 "nbformat": 4,
 "nbformat_minor": 5
}
